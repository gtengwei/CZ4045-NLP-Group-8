{
  "cells": [
    {
      "cell_type": "code",
      "execution_count": 1,
      "metadata": {
        "colab": {
          "base_uri": "https://localhost:8080/"
        },
        "id": "EYZ7lo75yPxC",
        "outputId": "5d8e4dbc-5cf5-49dc-c841-de3af73e0069"
      },
      "outputs": [
        {
          "name": "stderr",
          "output_type": "stream",
          "text": [
            "[nltk_data] Downloading package punkt to\n",
            "[nltk_data]     C:\\Users\\Cheryl\\AppData\\Roaming\\nltk_data...\n",
            "[nltk_data]   Package punkt is already up-to-date!\n",
            "[nltk_data] Downloading package stopwords to\n",
            "[nltk_data]     C:\\Users\\Cheryl\\AppData\\Roaming\\nltk_data...\n",
            "[nltk_data]   Package stopwords is already up-to-date!\n"
          ]
        }
      ],
      "source": [
        "# initialization\n",
        "import numpy as np\n",
        "import pandas as pd\n",
        "import seaborn as sns\n",
        "import matplotlib.pyplot as plt\n",
        "import gensim.downloader\n",
        "import re\n",
        "from sklearn.preprocessing import StandardScaler\n",
        "\n",
        "import nltk\n",
        "from nltk.corpus import stopwords  #stopwords\n",
        "from nltk import word_tokenize,sent_tokenize # tokenizing\n",
        "from nltk.stem import PorterStemmer,LancasterStemmer  # using the Porter Stemmer and Lancaster Stemmer and others\n",
        "from nltk.stem.snowball import SnowballStemmer\n",
        "from nltk.stem import WordNetLemmatizer  # lammatizer from WordNet\n",
        "\n",
        "import torch\n",
        "import torch.nn as nn\n",
        "from torch.utils.data import Dataset\n",
        "from torch.utils.data import DataLoader\n",
        "from torch.nn.utils.rnn import pack_padded_sequence, pad_packed_sequence, pad_sequence\n",
        "\n",
        "from sklearn.metrics import accuracy_score\n",
        "\n",
        "nltk.download('punkt')\n",
        "nltk.download('stopwords')\n",
        "\n",
        "np.random.seed(42)"
      ]
    },
    {
      "cell_type": "markdown",
      "metadata": {
        "id": "tKTIdmeXyPxH"
      },
      "source": [
        "## Import data"
      ]
    },
    {
      "cell_type": "code",
      "execution_count": 2,
      "metadata": {
        "id": "M_5Qv-_nyPxJ"
      },
      "outputs": [
        {
          "name": "stdout",
          "output_type": "stream",
          "text": [
            "Couldn't find program: 'false'\n"
          ]
        }
      ],
      "source": [
        "%%script false --no-raise-error # comment this if you dont have the dev_set\n",
        "\n",
        "# import dataset\n",
        "train_set = pd.read_csv('train.csv')\n",
        "\n",
        "test_set = pd.read_csv('test.csv')\n",
        "\n",
        "# from train_set sample development set\n",
        "dev_set = train_set.sample(n=500, replace=False)\n",
        "\n",
        "# remove dev set from train set\n",
        "train_set = train_set.drop(dev_set.index)\n",
        "\n",
        "# check\n",
        "print(train_set.shape, dev_set.shape, test_set.shape)\n",
        "\n",
        "# save to dataframe\n",
        "dev_set.to_csv(\"dev_set.csv\", index=False)\n",
        "train_set.to_csv(\"train_set_modified.csv\", index=False)"
      ]
    },
    {
      "cell_type": "code",
      "execution_count": 3,
      "metadata": {
        "id": "tX3q-f0nyPxJ"
      },
      "outputs": [],
      "source": [
        "train_set = pd.read_csv('train_set_modified.csv')\n",
        "dev_set = pd.read_csv('dev_set.csv')\n",
        "test_set = pd.read_csv('test.csv')"
      ]
    },
    {
      "cell_type": "markdown",
      "metadata": {
        "id": "Fdegxvh8yPxJ"
      },
      "source": [
        "## Preprocess data (averaging over word representations)\n",
        "\n",
        "TODO: Try max pooling\n",
        "\n",
        "TODO: Take representation of last word in LSTM\n",
        "\n",
        "TODO: Use attention and perform weighted average?\n",
        "\n"
      ]
    },
    {
      "cell_type": "code",
      "execution_count": 4,
      "metadata": {
        "colab": {
          "base_uri": "https://localhost:8080/"
        },
        "id": "VbsgLHAayPxJ",
        "outputId": "b94d5bb9-d590-4dc5-a43d-d4cf2dc7a05f"
      },
      "outputs": [],
      "source": [
        "# word2vec\n",
        "\n",
        "# download the word2vec-google-news-300\n",
        "w2v = gensim.downloader.load('word2vec-google-news-300')"
      ]
    },
    {
      "cell_type": "code",
      "execution_count": 5,
      "metadata": {
        "id": "sGJyTzeUyPxK"
      },
      "outputs": [],
      "source": [
        "# select four classes: 0, 1, 2, 3\n",
        "# 4 and 5 will be OTHERS (4)\n",
        "\n",
        "# for train_set\n",
        "train_set.loc[train_set['label-coarse'] > 4, 'label-coarse'] = 4\n",
        "\n",
        "# for dev_set\n",
        "dev_set.loc[dev_set['label-coarse'] > 4, 'label-coarse'] = 4\n",
        "\n",
        "# for test_set\n",
        "test_set.loc[test_set['label-coarse'] > 4, 'label-coarse'] = 4\n"
      ]
    },
    {
      "cell_type": "code",
      "execution_count": 6,
      "metadata": {
        "id": "ZXtBcXidyPxK"
      },
      "outputs": [],
      "source": [
        "# neural network transforming the input for each word to its final vector representation\n",
        "def token(sentence):\n",
        "\n",
        "    # keep only english words\n",
        "    sentence = re.sub(\"[^a-zA-Z]\",\" \",sentence)\n",
        "\n",
        "    # converting to lower case and splitting\n",
        "\n",
        "    # stop word removal\n",
        "    words = sentence.split()\n",
        "    stop_words = set(stopwords.words('english'))\n",
        "    filtered_words = [word.lower() for word in words if word.lower() not in stop_words]\n",
        "    filtered_sentence = ' '.join(filtered_words)\n",
        "\n",
        "    if (len(filtered_sentence) == 0):\n",
        "        filtered_sentence = sentence\n",
        "\n",
        "    token = word_tokenize(filtered_sentence)\n",
        "    return token"
      ]
    },
    {
      "cell_type": "code",
      "execution_count": 7,
      "metadata": {
        "colab": {
          "base_uri": "https://localhost:8080/",
          "height": 206
        },
        "id": "tC4VeEakyPxK",
        "outputId": "22411ff7-cb0c-44ba-debc-91c03b553aa6"
      },
      "outputs": [
        {
          "data": {
            "text/html": [
              "<div>\n",
              "<style scoped>\n",
              "    .dataframe tbody tr th:only-of-type {\n",
              "        vertical-align: middle;\n",
              "    }\n",
              "\n",
              "    .dataframe tbody tr th {\n",
              "        vertical-align: top;\n",
              "    }\n",
              "\n",
              "    .dataframe thead th {\n",
              "        text-align: right;\n",
              "    }\n",
              "</style>\n",
              "<table border=\"1\" class=\"dataframe\">\n",
              "  <thead>\n",
              "    <tr style=\"text-align: right;\">\n",
              "      <th></th>\n",
              "      <th>label-coarse</th>\n",
              "      <th>label-fine</th>\n",
              "      <th>text</th>\n",
              "      <th>cleaned_text</th>\n",
              "    </tr>\n",
              "  </thead>\n",
              "  <tbody>\n",
              "    <tr>\n",
              "      <th>0</th>\n",
              "      <td>0</td>\n",
              "      <td>0</td>\n",
              "      <td>How did serfdom develop in and then leave Russ...</td>\n",
              "      <td>[serfdom, develop, leave, russia]</td>\n",
              "    </tr>\n",
              "    <tr>\n",
              "      <th>1</th>\n",
              "      <td>1</td>\n",
              "      <td>1</td>\n",
              "      <td>What films featured the character Popeye Doyle ?</td>\n",
              "      <td>[films, featured, character, popeye, doyle]</td>\n",
              "    </tr>\n",
              "    <tr>\n",
              "      <th>2</th>\n",
              "      <td>0</td>\n",
              "      <td>0</td>\n",
              "      <td>How can I find a list of celebrities ' real na...</td>\n",
              "      <td>[find, list, celebrities, real, names]</td>\n",
              "    </tr>\n",
              "    <tr>\n",
              "      <th>3</th>\n",
              "      <td>1</td>\n",
              "      <td>2</td>\n",
              "      <td>What fowl grabs the spotlight after the Chines...</td>\n",
              "      <td>[fowl, grabs, spotlight, chinese, year, monkey]</td>\n",
              "    </tr>\n",
              "    <tr>\n",
              "      <th>4</th>\n",
              "      <td>2</td>\n",
              "      <td>3</td>\n",
              "      <td>What is the full form of .com ?</td>\n",
              "      <td>[full, form, com]</td>\n",
              "    </tr>\n",
              "  </tbody>\n",
              "</table>\n",
              "</div>"
            ],
            "text/plain": [
              "   label-coarse  label-fine  \\\n",
              "0             0           0   \n",
              "1             1           1   \n",
              "2             0           0   \n",
              "3             1           2   \n",
              "4             2           3   \n",
              "\n",
              "                                                text  \\\n",
              "0  How did serfdom develop in and then leave Russ...   \n",
              "1   What films featured the character Popeye Doyle ?   \n",
              "2  How can I find a list of celebrities ' real na...   \n",
              "3  What fowl grabs the spotlight after the Chines...   \n",
              "4                    What is the full form of .com ?   \n",
              "\n",
              "                                      cleaned_text  \n",
              "0                [serfdom, develop, leave, russia]  \n",
              "1      [films, featured, character, popeye, doyle]  \n",
              "2           [find, list, celebrities, real, names]  \n",
              "3  [fowl, grabs, spotlight, chinese, year, monkey]  \n",
              "4                                [full, form, com]  "
            ]
          },
          "execution_count": 7,
          "metadata": {},
          "output_type": "execute_result"
        }
      ],
      "source": [
        "train_set['cleaned_text'] = train_set['text'].apply(token)\n",
        "\n",
        "train_set.head()"
      ]
    },
    {
      "cell_type": "code",
      "execution_count": 8,
      "metadata": {
        "colab": {
          "base_uri": "https://localhost:8080/",
          "height": 1000
        },
        "id": "mc5lExIPyPxL",
        "outputId": "e513e51a-fa21-48e9-dd17-669c6506cd3a"
      },
      "outputs": [],
      "source": [
        "def aggregate_representations(dataset):\n",
        "  dataset['cleaned_text'] = dataset['text'].apply(token)\n",
        "  max_length = dataset['cleaned_text'].str.len().max()\n",
        "\n",
        "  # get the embedding shape of the model\n",
        "  embed_shape = len(w2v['test'])\n",
        "  average_word_embeddings = []\n",
        "\n",
        "  for index, row in dataset.iterrows():\n",
        "\n",
        "      sentence = row['cleaned_text']\n",
        "\n",
        "      # get word embedding of each word\n",
        "      word_embeddings = []\n",
        "\n",
        "      for word in sentence:\n",
        "          # check if the word is present in the model\n",
        "          if word in w2v.key_to_index:\n",
        "              word_embeddings.append(w2v[word])\n",
        "          else:\n",
        "              word_embeddings.append(np.zeros(shape=(embed_shape)))\n",
        "\n",
        "      # perform averaging of word embeddings\n",
        "      awe = np.mean(word_embeddings, axis = 0)\n",
        "\n",
        "      average_word_embeddings.append(awe)\n",
        "\n",
        "\n",
        "  dataset['vector'] = average_word_embeddings\n",
        "\n",
        "  dataset = pd.concat([dataset, dataset['vector'].apply(lambda x: pd.Series(x))], axis=1)\n",
        "\n",
        "  return dataset\n",
        "\n",
        "dev_set = aggregate_representations(dev_set)\n",
        "train_set = aggregate_representations(train_set)\n",
        "\n",
        "# train_set"
      ]
    },
    {
      "cell_type": "markdown",
      "metadata": {
        "id": "1ZO4QgkOyPxM"
      },
      "source": [
        "### Prepare data for training"
      ]
    },
    {
      "cell_type": "code",
      "execution_count": 9,
      "metadata": {},
      "outputs": [],
      "source": [
        "def encode_y_label(df, num_classes): # one hot encoding\n",
        "  encoded_labels = df['label-coarse'].apply(lambda label: list(np.eye(num_classes)[label]))\n",
        "  df['encoded-coarse-label'] = encoded_labels\n",
        "  return df\n",
        "  # print(df['encoded_coarse_label'])\n",
        "\n",
        "train_set = encode_y_label(train_set, 5)\n",
        "dev_set = encode_y_label(dev_set, 5)"
      ]
    },
    {
      "cell_type": "code",
      "execution_count": 10,
      "metadata": {
        "id": "0h-25moFyPxM"
      },
      "outputs": [],
      "source": [
        "# split into X and y\n",
        "X_train = train_set.drop(columns=['label-coarse', 'label-fine', 'text', 'cleaned_text', 'vector', 'encoded-coarse-label']).to_numpy()\n",
        "y_train = train_set['encoded-coarse-label']\n",
        "\n",
        "X_dev = dev_set.drop(columns=['label-coarse', 'label-fine', 'text', 'cleaned_text', 'vector', 'encoded-coarse-label']).to_numpy()\n",
        "y_dev = dev_set['encoded-coarse-label']\n",
        "\n",
        "# without one hot\n",
        "# X_train = train_set.drop(columns=['label-coarse', 'label-fine', 'text', 'cleaned_text', 'vector']).to_numpy()\n",
        "# y_train = train_set['label-coarse']\n",
        "\n",
        "# X_dev = dev_set.drop(columns=['label-coarse', 'label-fine', 'text', 'cleaned_text', 'vector']).to_numpy()\n",
        "# y_dev = dev_set['label-coarse']\n",
        "\n",
        "# SCALING?\n",
        "\n",
        "# mini-batch strategy\n",
        "batch_size = 32\n",
        "\n",
        "class CustomDataset(Dataset):\n",
        "    def __init__(self, X, y):\n",
        "        self.X =torch.tensor(X, dtype=torch.float64)\n",
        "        self.y =torch.tensor(y)\n",
        "\n",
        "    def __len__(self):\n",
        "        return len(self.y)\n",
        "\n",
        "    def __getitem__(self,idx):\n",
        "        return self.X[idx], self.y[idx]\n",
        "\n",
        "train_data = CustomDataset(X_train, y_train)\n",
        "dev_data = CustomDataset(X_dev, y_dev)\n",
        "\n",
        "train_loader = DataLoader(train_data, batch_size=batch_size, shuffle=True)\n",
        "dev_loader = DataLoader(dev_data, batch_size=batch_size, shuffle=True)"
      ]
    },
    {
      "cell_type": "markdown",
      "metadata": {
        "id": "czJOMrG6yPxM"
      },
      "source": [
        "##  LSTM model"
      ]
    },
    {
      "cell_type": "code",
      "execution_count": 11,
      "metadata": {},
      "outputs": [],
      "source": [
        "\n",
        "HIDDEN_SIZE = 128\n",
        "OUTPUT_SIZE = 5\n",
        "NUM_LAYERS = 1\n",
        "\n",
        "\n",
        "class simple_lstm(nn.Module):\n",
        "    def __init__(\n",
        "                    self, \n",
        "                    input_size= 300, \n",
        "                    hidden_size= HIDDEN_SIZE, \n",
        "                    output_size= OUTPUT_SIZE,\n",
        "                    num_layers= NUM_LAYERS,\n",
        "                   # dropout_rate= 0.2, \n",
        "                    bidirectional= True, \n",
        "                ):\n",
        "        \n",
        "        super().__init__()\n",
        "        # Model body\n",
        "        self.lstm = nn.LSTM(input_size= input_size, hidden_size= hidden_size, bidirectional= bidirectional, num_layers= num_layers, batch_first= True)\n",
        "        \n",
        "        # Model head\n",
        "        self.head = nn.Sequential(\n",
        "            nn.Linear((2 if bidirectional else 1) * hidden_size, output_size),\n",
        "           # nn.Dropout(dropout_rate),\n",
        "            nn.Softmax(dim= 2)\n",
        "        )\n",
        "    \n",
        "    def __call__(self, input):\n",
        "\n",
        "        return self.head(self.lstm(input)[0])"
      ]
    },
    {
      "cell_type": "code",
      "execution_count": 13,
      "metadata": {
        "id": "CefMeVQpyPxM"
      },
      "outputs": [],
      "source": [
        "input_dim = len(w2v['test'])\n",
        "hidden_dim = 128\n",
        "output_dim = 5\n",
        "layer_dim = 300\n",
        "\n",
        "model = simple_lstm(input_dim, 128, 5, 1)\n",
        "criterion = nn.CrossEntropyLoss()\n",
        "learning_rate = 0.001\n",
        "optimizer = torch.optim.Adam(model.parameters(), lr=1e-3)"
      ]
    },
    {
      "cell_type": "code",
      "execution_count": 14,
      "metadata": {
        "colab": {
          "base_uri": "https://localhost:8080/",
          "height": 506
        },
        "id": "DbnrWHhcyPxN",
        "outputId": "e9b5a6bf-8b9e-4bbc-9c4b-2e709560276f"
      },
      "outputs": [
        {
          "name": "stdout",
          "output_type": "stream",
          "text": [
            "Epoch: 0, training set loss: 1.49047\n",
            "Epoch: 0, dev set loss: 1.36267\n",
            "Accuracy: 55.60%\n",
            "Epoch: 1, training set loss: 1.32810\n",
            "Epoch: 1, dev set loss: 1.28546\n",
            "Accuracy: 62.60%\n",
            "Epoch: 2, training set loss: 1.27466\n",
            "Epoch: 2, dev set loss: 1.26150\n",
            "Accuracy: 64.00%\n",
            "Epoch: 3, training set loss: 1.24762\n",
            "Epoch: 3, dev set loss: 1.25146\n",
            "Accuracy: 65.00%\n",
            "Epoch: 4, training set loss: 1.23077\n",
            "Epoch: 4, dev set loss: 1.24891\n",
            "Accuracy: 65.40%\n",
            "Epoch: 5, training set loss: 1.21929\n",
            "Epoch: 5, dev set loss: 1.24533\n",
            "Accuracy: 65.80%\n",
            "Epoch: 6, training set loss: 1.21021\n",
            "Epoch: 6, dev set loss: 1.24194\n",
            "Accuracy: 65.80%\n",
            "Epoch: 7, training set loss: 1.20250\n",
            "Epoch: 7, dev set loss: 1.24126\n",
            "Accuracy: 66.60%\n",
            "Epoch: 8, training set loss: 1.19487\n",
            "Epoch: 8, dev set loss: 1.23572\n",
            "Accuracy: 65.00%\n",
            "Epoch: 9, training set loss: 1.18994\n",
            "Epoch: 9, dev set loss: 1.23896\n",
            "Accuracy: 65.60%\n",
            "Epoch: 10, training set loss: 1.18420\n",
            "Epoch: 10, dev set loss: 1.23529\n",
            "Accuracy: 66.00%\n",
            "Epoch: 11, training set loss: 1.18003\n",
            "Epoch: 11, dev set loss: 1.24038\n",
            "Accuracy: 66.00%\n",
            "Early stopping after 11 epochs.\n"
          ]
        }
      ],
      "source": [
        "# REFERENCE\n",
        "num_epochs = 100\n",
        "best_accuracy = 0.0\n",
        "max_patience = 5\n",
        "current_patience = 0\n",
        "train_accuracy_list = []\n",
        "\n",
        "for epoch in range(num_epochs):\n",
        "  model.train()\n",
        "  total_training_loss = 0.0\n",
        "  total_dev_loss = 0.0\n",
        "\n",
        "  for x_batch, y_batch in train_loader:\n",
        "    x_batch = x_batch.unsqueeze(1).float() # convert to 3D tensor\n",
        "    outputs = model(x_batch) # forward pass\n",
        "    optimizer.zero_grad() # calculate the gradient, manually setting to 0\n",
        "\n",
        "    # obtain the loss function\n",
        "    loss = criterion(outputs.squeeze(1), y_batch)\n",
        "\n",
        "    loss.backward() #calculates the loss of the loss function\n",
        "\n",
        "    optimizer.step() #improve from loss, i.e backprop\n",
        "\n",
        "    total_training_loss += loss.item()\n",
        "\n",
        "  average_loss = total_training_loss / len(train_loader)\n",
        "  print(\"Epoch: %d, training set loss: %1.5f\" % (epoch, average_loss))\n",
        "\n",
        "  # evaluate on dev set\n",
        "  model.eval()\n",
        "  with torch.no_grad():\n",
        "    all_true_labels = []\n",
        "    all_predicted_labels = []\n",
        "    for inputs in dev_loader:\n",
        "      x_batch, y_batch = inputs\n",
        "      x_batch = x_batch.unsqueeze(1).float()\n",
        "\n",
        "      # forward pass\n",
        "      y_pred = model(x_batch)\n",
        "      loss = criterion(y_pred.squeeze(1), y_batch)\n",
        "\n",
        "      total_dev_loss += loss.item()\n",
        "\n",
        "      predicted_labels = torch.argmax(y_pred.squeeze(1), dim=1)\n",
        "      y_batch = torch.argmax(y_batch, dim=1)\n",
        "\n",
        "\n",
        "      all_true_labels.extend(y_batch.tolist())\n",
        "      all_predicted_labels.extend(predicted_labels.tolist())\n",
        "\n",
        "    average_dev_loss = total_dev_loss / len(dev_loader)\n",
        "    print(\"Epoch: %d, dev set loss: %1.5f\" % (epoch, average_dev_loss))\n",
        "\n",
        "  def calculate_accuracy(y_true, y_pred):\n",
        "      y_true = y_true.detach().cpu().numpy()\n",
        "      y_pred = y_pred.detach().cpu().numpy()\n",
        "      return accuracy_score(y_true, y_pred)\n",
        "\n",
        "  accuracy = calculate_accuracy(torch.tensor(all_true_labels), torch.tensor(all_predicted_labels))\n",
        "  train_accuracy_list.append(accuracy)\n",
        "  print(f\"Accuracy: {accuracy * 100:.2f}%\")\n",
        "\n",
        "  if accuracy > best_accuracy:\n",
        "    best_accuracy = accuracy\n",
        "    best_model = model.state_dict()\n",
        "  else:\n",
        "    current_patience += 1\n",
        "    if current_patience >= max_patience:\n",
        "        print(f\"Early stopping after {epoch} epochs.\")\n",
        "        break\n"
      ]
    },
    {
      "cell_type": "code",
      "execution_count": 15,
      "metadata": {},
      "outputs": [
        {
          "data": {
            "text/plain": [
              "<matplotlib.legend.Legend at 0x1aeb6c66e10>"
            ]
          },
          "execution_count": 15,
          "metadata": {},
          "output_type": "execute_result"
        },
        {
          "data": {
            "image/png": "[encoded data removed]",
            "text/plain": [
              "<Figure size 1200x400 with 1 Axes>"
            ]
          },
          "metadata": {},
          "output_type": "display_data"
        }
      ],
      "source": [
        "# Plot train and dev accurancies and losses on training and dev data against training epochs\n",
        "plt.figure(figsize=(12, 4))\n",
        "plt.title('dev set accuracy')\n",
        "plt.plot(range(len(train_accuracy_list)), train_accuracy_list, label='Train')\n",
        "plt.xlabel('Epoch')\n",
        "plt.ylabel('Accuracy')\n",
        "plt.legend()"
      ]
    },
    {
      "cell_type": "code",
      "execution_count": null,
      "metadata": {},
      "outputs": [],
      "source": []
    },
    {
      "cell_type": "code",
      "execution_count": null,
      "metadata": {},
      "outputs": [],
      "source": []
    },
    {
      "cell_type": "code",
      "execution_count": null,
      "metadata": {},
      "outputs": [],
      "source": []
    },
    {
      "cell_type": "code",
      "execution_count": null,
      "metadata": {},
      "outputs": [],
      "source": []
    },
    {
      "cell_type": "markdown",
      "metadata": {},
      "source": [
        "- aggregation: max pooling, last word\n",
        "- number of layers\n",
        "- hidden dimensions\n",
        "- learning rate\n",
        "- mini-batch size"
      ]
    }
  ],
  "metadata": {
    "colab": {
      "provenance": []
    },
    "kernelspec": {
      "display_name": "Python 3.11.0rc2 64-bit",
      "language": "python",
      "name": "python3"
    },
    "language_info": {
      "codemirror_mode": {
        "name": "ipython",
        "version": 3
      },
      "file_extension": ".py",
      "mimetype": "text/x-python",
      "name": "python",
      "nbconvert_exporter": "python",
      "pygments_lexer": "ipython3",
      "version": "3.11.0rc2"
    },
    "vscode": {
      "interpreter": {
        "hash": "dda57afae9af399ecbdf8df67ccd92ed69268ebb9dac03797080ba5b979e10f0"
      }
    }
  },
  "nbformat": 4,
  "nbformat_minor": 0
}
