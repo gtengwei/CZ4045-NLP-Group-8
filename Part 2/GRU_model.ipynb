{
 "cells": [
  {
   "cell_type": "code",
   "execution_count": 2,
   "metadata": {},
   "outputs": [],
   "source": [
    "import pandas as pd\n",
    "import numpy as np\n",
    "import matplotlib.pyplot as plt\n",
    "import seaborn as sns\n",
    "import os\n",
    "import sys\n",
    "\n",
    "train_set = pd.read_csv('train_set_modified.csv')\n",
    "dev_set = pd.read_csv('dev_set.csv')\n",
    "test_set = pd.read_csv('test.csv')"
   ]
  },
  {
   "cell_type": "code",
   "execution_count": 3,
   "metadata": {},
   "outputs": [
    {
     "data": {
      "text/html": [
       "<div>\n",
       "<style scoped>\n",
       "    .dataframe tbody tr th:only-of-type {\n",
       "        vertical-align: middle;\n",
       "    }\n",
       "\n",
       "    .dataframe tbody tr th {\n",
       "        vertical-align: top;\n",
       "    }\n",
       "\n",
       "    .dataframe thead th {\n",
       "        text-align: right;\n",
       "    }\n",
       "</style>\n",
       "<table border=\"1\" class=\"dataframe\">\n",
       "  <thead>\n",
       "    <tr style=\"text-align: right;\">\n",
       "      <th></th>\n",
       "      <th>label-coarse</th>\n",
       "      <th>label-fine</th>\n",
       "      <th>text</th>\n",
       "    </tr>\n",
       "  </thead>\n",
       "  <tbody>\n",
       "    <tr>\n",
       "      <th>0</th>\n",
       "      <td>0</td>\n",
       "      <td>0</td>\n",
       "      <td>How did serfdom develop in and then leave Russ...</td>\n",
       "    </tr>\n",
       "    <tr>\n",
       "      <th>1</th>\n",
       "      <td>1</td>\n",
       "      <td>1</td>\n",
       "      <td>What films featured the character Popeye Doyle ?</td>\n",
       "    </tr>\n",
       "    <tr>\n",
       "      <th>2</th>\n",
       "      <td>0</td>\n",
       "      <td>0</td>\n",
       "      <td>How can I find a list of celebrities ' real na...</td>\n",
       "    </tr>\n",
       "    <tr>\n",
       "      <th>3</th>\n",
       "      <td>1</td>\n",
       "      <td>2</td>\n",
       "      <td>What fowl grabs the spotlight after the Chines...</td>\n",
       "    </tr>\n",
       "    <tr>\n",
       "      <th>4</th>\n",
       "      <td>2</td>\n",
       "      <td>3</td>\n",
       "      <td>What is the full form of .com ?</td>\n",
       "    </tr>\n",
       "  </tbody>\n",
       "</table>\n",
       "</div>"
      ],
      "text/plain": [
       "   label-coarse  label-fine                                               text\n",
       "0             0           0  How did serfdom develop in and then leave Russ...\n",
       "1             1           1   What films featured the character Popeye Doyle ?\n",
       "2             0           0  How can I find a list of celebrities ' real na...\n",
       "3             1           2  What fowl grabs the spotlight after the Chines...\n",
       "4             2           3                    What is the full form of .com ?"
      ]
     },
     "execution_count": 3,
     "metadata": {},
     "output_type": "execute_result"
    }
   ],
   "source": [
    "train_set.head()"
   ]
  },
  {
   "cell_type": "code",
   "execution_count": 3,
   "metadata": {},
   "outputs": [],
   "source": [
    "# for train_set\n",
    "train_set.loc[train_set['label-coarse'] > 4, 'label-coarse'] = 4\n",
    "\n",
    "# for dev_set\n",
    "dev_set.loc[dev_set['label-coarse'] > 4, 'label-coarse'] = 4\n",
    "\n",
    "# for test_set\n",
    "test_set.loc[test_set['label-coarse'] > 4, 'label-coarse'] = 4"
   ]
  },
  {
   "cell_type": "code",
   "execution_count": 4,
   "metadata": {},
   "outputs": [],
   "source": [
    "import re\n",
    "import nltk\n",
    "from nltk.corpus import stopwords\n",
    "from nltk.tokenize import word_tokenize\n",
    "# neural network transforming the input for each word to its final vector representation\n",
    "def token(sentence):\n",
    "\n",
    "    # keep only english words\n",
    "    sentence = re.sub(\"[^a-zA-Z]\",\" \",sentence)\n",
    "\n",
    "    # converting to lower case and splitting\n",
    "\n",
    "    # stop word removal\n",
    "    words = sentence.split()\n",
    "    stop_words = set(stopwords.words('english'))\n",
    "    filtered_words = [word.lower() for word in words if word.lower() not in stop_words]\n",
    "    filtered_sentence = ' '.join(filtered_words)\n",
    "\n",
    "    token = word_tokenize(filtered_sentence)\n",
    "    return token"
   ]
  },
  {
   "cell_type": "code",
   "execution_count": 5,
   "metadata": {},
   "outputs": [
    {
     "data": {
      "text/html": [
       "<div>\n",
       "<style scoped>\n",
       "    .dataframe tbody tr th:only-of-type {\n",
       "        vertical-align: middle;\n",
       "    }\n",
       "\n",
       "    .dataframe tbody tr th {\n",
       "        vertical-align: top;\n",
       "    }\n",
       "\n",
       "    .dataframe thead th {\n",
       "        text-align: right;\n",
       "    }\n",
       "</style>\n",
       "<table border=\"1\" class=\"dataframe\">\n",
       "  <thead>\n",
       "    <tr style=\"text-align: right;\">\n",
       "      <th></th>\n",
       "      <th>label-coarse</th>\n",
       "      <th>label-fine</th>\n",
       "      <th>text</th>\n",
       "      <th>cleaned_text</th>\n",
       "    </tr>\n",
       "  </thead>\n",
       "  <tbody>\n",
       "    <tr>\n",
       "      <th>0</th>\n",
       "      <td>0</td>\n",
       "      <td>0</td>\n",
       "      <td>How did serfdom develop in and then leave Russ...</td>\n",
       "      <td>[serfdom, develop, leave, russia]</td>\n",
       "    </tr>\n",
       "    <tr>\n",
       "      <th>1</th>\n",
       "      <td>1</td>\n",
       "      <td>1</td>\n",
       "      <td>What films featured the character Popeye Doyle ?</td>\n",
       "      <td>[films, featured, character, popeye, doyle]</td>\n",
       "    </tr>\n",
       "    <tr>\n",
       "      <th>2</th>\n",
       "      <td>0</td>\n",
       "      <td>0</td>\n",
       "      <td>How can I find a list of celebrities ' real na...</td>\n",
       "      <td>[find, list, celebrities, real, names]</td>\n",
       "    </tr>\n",
       "    <tr>\n",
       "      <th>3</th>\n",
       "      <td>1</td>\n",
       "      <td>2</td>\n",
       "      <td>What fowl grabs the spotlight after the Chines...</td>\n",
       "      <td>[fowl, grabs, spotlight, chinese, year, monkey]</td>\n",
       "    </tr>\n",
       "    <tr>\n",
       "      <th>4</th>\n",
       "      <td>2</td>\n",
       "      <td>3</td>\n",
       "      <td>What is the full form of .com ?</td>\n",
       "      <td>[full, form, com]</td>\n",
       "    </tr>\n",
       "  </tbody>\n",
       "</table>\n",
       "</div>"
      ],
      "text/plain": [
       "   label-coarse  label-fine  \\\n",
       "0             0           0   \n",
       "1             1           1   \n",
       "2             0           0   \n",
       "3             1           2   \n",
       "4             2           3   \n",
       "\n",
       "                                                text  \\\n",
       "0  How did serfdom develop in and then leave Russ...   \n",
       "1   What films featured the character Popeye Doyle ?   \n",
       "2  How can I find a list of celebrities ' real na...   \n",
       "3  What fowl grabs the spotlight after the Chines...   \n",
       "4                    What is the full form of .com ?   \n",
       "\n",
       "                                      cleaned_text  \n",
       "0                [serfdom, develop, leave, russia]  \n",
       "1      [films, featured, character, popeye, doyle]  \n",
       "2           [find, list, celebrities, real, names]  \n",
       "3  [fowl, grabs, spotlight, chinese, year, monkey]  \n",
       "4                                [full, form, com]  "
      ]
     },
     "execution_count": 5,
     "metadata": {},
     "output_type": "execute_result"
    }
   ],
   "source": [
    "train_set['cleaned_text'] = train_set['text'].apply(token)\n",
    "dev_set['cleaned_text'] = dev_set['text'].apply(token)\n",
    "test_set['cleaned_text'] = test_set['text'].apply(token)\n",
    "\n",
    "train_set.head()"
   ]
  },
  {
   "cell_type": "code",
   "execution_count": 6,
   "metadata": {},
   "outputs": [],
   "source": [
    "# Function to get vocabulary\n",
    "def get_vocab(data):\n",
    "    vocab = set()\n",
    "    for sentence in data:\n",
    "        for word in sentence:\n",
    "            vocab.add(word)\n",
    "    word_to_ix = {word: i for i, word in enumerate(vocab)}\n",
    "    return vocab, word_to_ix"
   ]
  },
  {
   "cell_type": "code",
   "execution_count": 7,
   "metadata": {},
   "outputs": [],
   "source": [
    "import torch\n",
    "# Function to pad sentences to max length\n",
    "def pad(data, max_length):\n",
    "    padded_data = []\n",
    "    for sentence in data:\n",
    "        if len(sentence) > max_length:\n",
    "            padded_data.append(sentence[:max_length])\n",
    "        else:\n",
    "            padded_data.append(sentence + [' '] * (max_length - len(sentence)))\n",
    "    return padded_data\n",
    "\n",
    "max_length = max([len(sentence) for sentence in train_set['cleaned_text']])\n"
   ]
  },
  {
   "cell_type": "code",
   "execution_count": 8,
   "metadata": {},
   "outputs": [
    {
     "data": {
      "text/html": [
       "<div>\n",
       "<style scoped>\n",
       "    .dataframe tbody tr th:only-of-type {\n",
       "        vertical-align: middle;\n",
       "    }\n",
       "\n",
       "    .dataframe tbody tr th {\n",
       "        vertical-align: top;\n",
       "    }\n",
       "\n",
       "    .dataframe thead th {\n",
       "        text-align: right;\n",
       "    }\n",
       "</style>\n",
       "<table border=\"1\" class=\"dataframe\">\n",
       "  <thead>\n",
       "    <tr style=\"text-align: right;\">\n",
       "      <th></th>\n",
       "      <th>label-coarse</th>\n",
       "      <th>label-fine</th>\n",
       "      <th>text</th>\n",
       "      <th>cleaned_text</th>\n",
       "      <th>padded_text</th>\n",
       "    </tr>\n",
       "  </thead>\n",
       "  <tbody>\n",
       "    <tr>\n",
       "      <th>0</th>\n",
       "      <td>0</td>\n",
       "      <td>0</td>\n",
       "      <td>How did serfdom develop in and then leave Russ...</td>\n",
       "      <td>[serfdom, develop, leave, russia]</td>\n",
       "      <td>[serfdom, develop, leave, russia,  ,  ,  ,  , ...</td>\n",
       "    </tr>\n",
       "    <tr>\n",
       "      <th>1</th>\n",
       "      <td>1</td>\n",
       "      <td>1</td>\n",
       "      <td>What films featured the character Popeye Doyle ?</td>\n",
       "      <td>[films, featured, character, popeye, doyle]</td>\n",
       "      <td>[films, featured, character, popeye, doyle,  ,...</td>\n",
       "    </tr>\n",
       "    <tr>\n",
       "      <th>2</th>\n",
       "      <td>0</td>\n",
       "      <td>0</td>\n",
       "      <td>How can I find a list of celebrities ' real na...</td>\n",
       "      <td>[find, list, celebrities, real, names]</td>\n",
       "      <td>[find, list, celebrities, real, names,  ,  ,  ...</td>\n",
       "    </tr>\n",
       "    <tr>\n",
       "      <th>3</th>\n",
       "      <td>1</td>\n",
       "      <td>2</td>\n",
       "      <td>What fowl grabs the spotlight after the Chines...</td>\n",
       "      <td>[fowl, grabs, spotlight, chinese, year, monkey]</td>\n",
       "      <td>[fowl, grabs, spotlight, chinese, year, monkey...</td>\n",
       "    </tr>\n",
       "    <tr>\n",
       "      <th>4</th>\n",
       "      <td>2</td>\n",
       "      <td>3</td>\n",
       "      <td>What is the full form of .com ?</td>\n",
       "      <td>[full, form, com]</td>\n",
       "      <td>[full, form, com,  ,  ,  ,  ,  ,  ,  ,  ,  ,  ...</td>\n",
       "    </tr>\n",
       "  </tbody>\n",
       "</table>\n",
       "</div>"
      ],
      "text/plain": [
       "   label-coarse  label-fine  \\\n",
       "0             0           0   \n",
       "1             1           1   \n",
       "2             0           0   \n",
       "3             1           2   \n",
       "4             2           3   \n",
       "\n",
       "                                                text  \\\n",
       "0  How did serfdom develop in and then leave Russ...   \n",
       "1   What films featured the character Popeye Doyle ?   \n",
       "2  How can I find a list of celebrities ' real na...   \n",
       "3  What fowl grabs the spotlight after the Chines...   \n",
       "4                    What is the full form of .com ?   \n",
       "\n",
       "                                      cleaned_text  \\\n",
       "0                [serfdom, develop, leave, russia]   \n",
       "1      [films, featured, character, popeye, doyle]   \n",
       "2           [find, list, celebrities, real, names]   \n",
       "3  [fowl, grabs, spotlight, chinese, year, monkey]   \n",
       "4                                [full, form, com]   \n",
       "\n",
       "                                         padded_text  \n",
       "0  [serfdom, develop, leave, russia,  ,  ,  ,  , ...  \n",
       "1  [films, featured, character, popeye, doyle,  ,...  \n",
       "2  [find, list, celebrities, real, names,  ,  ,  ...  \n",
       "3  [fowl, grabs, spotlight, chinese, year, monkey...  \n",
       "4  [full, form, com,  ,  ,  ,  ,  ,  ,  ,  ,  ,  ...  "
      ]
     },
     "execution_count": 8,
     "metadata": {},
     "output_type": "execute_result"
    }
   ],
   "source": [
    "train_set['padded_text'] = pad(train_set['cleaned_text'], max_length)\n",
    "dev_set['padded_text'] = pad(dev_set['cleaned_text'], max_length)\n",
    "test_set['padded_text'] = pad(test_set['cleaned_text'], max_length)\n",
    "\n",
    "train_set.head()"
   ]
  },
  {
   "cell_type": "code",
   "execution_count": 9,
   "metadata": {},
   "outputs": [],
   "source": [
    "vocab, word_to_ix = get_vocab(train_set['cleaned_text'])\n",
    "word_to_ix[' '] = len(word_to_ix)\n",
    "word_to_ix['<unk>'] = len(word_to_ix)\n",
    "vocab.add(' ')\n",
    "vocab.add('<unk>')"
   ]
  },
  {
   "cell_type": "code",
   "execution_count": 10,
   "metadata": {},
   "outputs": [],
   "source": [
    "def aggregate(sentences, word_to_ix):\n",
    "    data_ids = np.zeros([len(sentences), max_length], dtype=np.int64)\n",
    "    for i in range(len(sentences)):\n",
    "        for j in range(max_length):\n",
    "            try:\n",
    "                data_ids[i, j] = word_to_ix[sentences[i][j]]\n",
    "            except:\n",
    "                data_ids[i, j] = word_to_ix['<unk>']\n",
    "    print(data_ids.shape)\n",
    "    return torch.tensor(data_ids, dtype=torch.int64)"
   ]
  },
  {
   "cell_type": "code",
   "execution_count": 11,
   "metadata": {},
   "outputs": [
    {
     "name": "stdout",
     "output_type": "stream",
     "text": [
      "(4952, 18)\n",
      "(500, 18)\n",
      "(500, 18)\n"
     ]
    }
   ],
   "source": [
    "X_train = aggregate(train_set['padded_text'], word_to_ix)\n",
    "y_train = torch.tensor(train_set['label-coarse'].values, dtype=torch.int64)\n",
    "X_dev = aggregate(dev_set['padded_text'], word_to_ix)\n",
    "y_dev = torch.tensor(dev_set['label-coarse'].values, dtype=torch.int64)\n",
    "X_test = aggregate(test_set['padded_text'], word_to_ix)\n",
    "y_test = torch.tensor(test_set['label-coarse'].values, dtype=torch.int64)"
   ]
  },
  {
   "cell_type": "code",
   "execution_count": 12,
   "metadata": {},
   "outputs": [
    {
     "data": {
      "text/plain": [
       "<torch._C.Generator at 0x1ebbd697fd0>"
      ]
     },
     "execution_count": 12,
     "metadata": {},
     "output_type": "execute_result"
    }
   ],
   "source": [
    "import torch.nn as nn\n",
    "\n",
    "class WordRNNGRU(nn.Module):\n",
    "\n",
    "    def __init__(self, vocab_size, hidden_dim, output_dim):\n",
    "        super(WordRNNGRU, self).__init__()\n",
    "        self.rnn = nn.GRU(vocab_size, hidden_dim, batch_first=True)\n",
    "        self.dense = nn.Linear(hidden_dim, output_dim)\n",
    "\n",
    "    def forward(self, x, drop_rate):\n",
    "        byte_vectors = nn.functional.one_hot(x, num_classes=vocab_size).float()\n",
    "        encoding, _ = self.rnn(byte_vectors)\n",
    "        encoding = encoding[:, -1, :]\n",
    "        encoding = nn.functional.dropout(encoding, drop_rate)\n",
    "        logits = self.dense(encoding)\n",
    "        return logits\n",
    "\n",
    "seed = 10\n",
    "np.random.seed(seed)\n",
    "torch.manual_seed(seed)"
   ]
  },
  {
   "cell_type": "code",
   "execution_count": 13,
   "metadata": {},
   "outputs": [],
   "source": [
    "class EarlyStopper:\n",
    "    def __init__(self, patience=5, min_delta=0):\n",
    "        self.patience = patience\n",
    "        self.min_delta = min_delta\n",
    "        self.counter = 0\n",
    "        self.min_validation_loss = np.inf\n",
    "\n",
    "    def early_stop(self, validation_loss):\n",
    "        if validation_loss < self.min_validation_loss:\n",
    "            self.min_validation_loss = validation_loss\n",
    "            self.counter = 0\n",
    "        elif validation_loss > (self.min_validation_loss + self.min_delta):\n",
    "            self.counter += 1\n",
    "            if self.counter >= self.patience:\n",
    "                return True\n",
    "        return False"
   ]
  },
  {
   "cell_type": "code",
   "execution_count": 14,
   "metadata": {},
   "outputs": [],
   "source": [
    "from torch import optim\n",
    "vocab_size = len(vocab)\n",
    "hidden_dim = 128\n",
    "output_dim = 5\n",
    "model = WordRNNGRU(vocab_size, hidden_dim = hidden_dim, output_dim = output_dim)\n",
    "optimizer = optim.Adam(model.parameters(), lr=0.001)\n",
    "criterion = nn.CrossEntropyLoss()\n",
    "early_stopper = EarlyStopper()"
   ]
  },
  {
   "cell_type": "code",
   "execution_count": 110,
   "metadata": {},
   "outputs": [
    {
     "name": "stdout",
     "output_type": "stream",
     "text": [
      "Epoch 0 | Train loss: 1.6390305757522583 | Train accuracy: 0.03857027366757393 | Dev loss: 1.6264069080352783 | Dev accuracy: 0.019999999552965164\n",
      "Epoch 10 | Train loss: 1.5158133506774902 | Train accuracy: 0.30977383255958557 | Dev loss: 1.5013914108276367 | Dev accuracy: 0.335999995470047\n",
      "Epoch 20 | Train loss: 1.4409995079040527 | Train accuracy: 0.31199514865875244 | Dev loss: 1.4432401657104492 | Dev accuracy: 0.335999995470047\n",
      "Early stopping. Epoch 24 | Train loss: 1.4432605504989624 | Train accuracy: 0.2748384475708008 | Dev loss: 1.4484325647354126 | Dev accuracy: 0.335999995470047\n"
     ]
    }
   ],
   "source": [
    "train_loss_list, train_accuracy_list = [], []\n",
    "dev_loss_list, dev_accuracy_list = [], []\n",
    "no_epochs = 31\n",
    "for e in range(no_epochs):\n",
    "\n",
    "    total_train_loss_per_epoch = []\n",
    "    total_train_acc_per_epoch = []\n",
    "    \n",
    "    \n",
    "    logits = model(X_train, drop_rate=0.3)\n",
    "    loss = criterion(logits, y_train)\n",
    "\n",
    "    optimizer.zero_grad()\n",
    "    loss.backward()\n",
    "    optimizer.step()\n",
    "\n",
    "    acc = (logits.argmax(dim=1) == y_train).float().mean().item()\n",
    "    # loss.append(loss.item()), acc.append(acc)\n",
    "    total_train_loss_per_epoch.append(loss.item())\n",
    "    total_train_acc_per_epoch.append(acc)\n",
    "\n",
    "    model.eval()\n",
    "    with torch.no_grad():\n",
    "        total_dev_loss_per_epoch = []\n",
    "        total_dev_acc_per_epoch = []\n",
    "        dev_logits = model(X_dev, drop_rate=0)\n",
    "        probs = nn.functional.softmax(dev_logits, dim=1)\n",
    "        # print(probs)\n",
    "        loss = criterion(dev_logits, y_dev)\n",
    "        acc = (dev_logits.argmax(dim=1) == y_dev).float().mean().item()\n",
    "        total_dev_loss_per_epoch.append(loss.item())\n",
    "        total_dev_acc_per_epoch.append(acc)\n",
    "    \n",
    "    train_loss_list.append(np.mean(total_train_loss_per_epoch))\n",
    "    train_accuracy_list.append(np.mean(total_train_acc_per_epoch))\n",
    "    dev_loss_list.append(np.mean(total_dev_loss_per_epoch))\n",
    "    dev_accuracy_list.append(np.mean(total_dev_acc_per_epoch))\n",
    "\n",
    "\n",
    "    if e % 10 == 0:\n",
    "        print(f'Epoch {e} | Train loss: {train_loss_list[-1]} | Train accuracy: {train_accuracy_list[-1]} | Dev loss: {dev_loss_list[-1]} | Dev accuracy: {dev_accuracy_list[-1]}') \n",
    "    \n",
    "    if early_stopper.early_stop(dev_loss_list[-1]):\n",
    "        print(f'Early stopping. Epoch {e} | Train loss: {train_loss_list[-1]} | Train accuracy: {train_accuracy_list[-1]} | Dev loss: {dev_loss_list[-1]} | Dev accuracy: {dev_accuracy_list[-1]}') \n",
    "        break"
   ]
  },
  {
   "cell_type": "code",
   "execution_count": 111,
   "metadata": {},
   "outputs": [
    {
     "data": {
      "image/png": "[encoded data removed]",
      "text/plain": [
       "<Figure size 1200x400 with 2 Axes>"
      ]
     },
     "metadata": {},
     "output_type": "display_data"
    }
   ],
   "source": [
    "# Plot train and dev accurancies and losses on training and dev data against training epochs\n",
    "num_epochs = len(train_loss_list)\n",
    "plt.figure(figsize=(12, 4))\n",
    "plt.subplot(1, 2, 1)\n",
    "plt.title('Train and dev loss without dataloader')\n",
    "plt.plot(range(num_epochs), train_loss_list, label='Train')\n",
    "plt.plot(range(num_epochs), dev_loss_list, label='Test')\n",
    "plt.xlabel('Epoch')\n",
    "plt.ylabel('Loss')\n",
    "plt.legend()\n",
    "plt.subplot(1, 2, 2)\n",
    "plt.title('Train and dev accuracy without dataloader')\n",
    "plt.plot(range(num_epochs), train_accuracy_list, label='Train')\n",
    "plt.plot(range(num_epochs), dev_accuracy_list, label='Test')\n",
    "plt.xlabel('Epoch')\n",
    "plt.ylabel('Accuracy')\n",
    "plt.legend()\n",
    "plt.show()"
   ]
  },
  {
   "cell_type": "code",
   "execution_count": null,
   "metadata": {},
   "outputs": [],
   "source": []
  },
  {
   "cell_type": "code",
   "execution_count": 15,
   "metadata": {},
   "outputs": [],
   "source": [
    "from torch.utils.data import DataLoader\n",
    "batch_size = 32\n",
    "\n",
    "train_loader = DataLoader(list(zip(X_train, y_train)), batch_size=batch_size, shuffle=True)\n",
    "dev_loader = DataLoader(list(zip(X_dev, y_dev)), batch_size=batch_size, shuffle=True)"
   ]
  },
  {
   "cell_type": "code",
   "execution_count": 16,
   "metadata": {},
   "outputs": [],
   "source": [
    "from torch import optim\n",
    "vocab_size = len(vocab)\n",
    "hidden_dim = 128\n",
    "output_dim = 5\n",
    "model = WordRNNGRU(vocab_size, hidden_dim = hidden_dim, output_dim = output_dim)\n",
    "optimizer = optim.Adam(model.parameters(), lr=0.001)\n",
    "criterion = nn.CrossEntropyLoss()\n",
    "early_stopper = EarlyStopper()"
   ]
  },
  {
   "cell_type": "code",
   "execution_count": 18,
   "metadata": {},
   "outputs": [
    {
     "name": "stdout",
     "output_type": "stream",
     "text": [
      "Epoch 0 | Train loss: 1.3389783044015207 | Train accuracy: 0.3600134409243061 | Dev loss: 0.9948578476905823 | Dev accuracy: 0.5714843757450581\n",
      "Early stopping. Epoch 7 | Train loss: 0.04531890827140981 | Train accuracy: 0.9889112903225806 | Dev loss: 1.3144745863974094 | Dev accuracy: 0.7121093757450581\n"
     ]
    }
   ],
   "source": [
    "train_loss_list, train_accuracy_list = [], []\n",
    "dev_loss_list, dev_accuracy_list = [], []\n",
    "no_epochs = 31\n",
    "for e in range(no_epochs):\n",
    "\n",
    "    total_train_loss_per_epoch = []\n",
    "    total_train_acc_per_epoch = []\n",
    "    \n",
    "    model.train()\n",
    "    for X_batch, y_batch in train_loader:\n",
    "        logits = model(X_batch, drop_rate=0.3)\n",
    "        loss = criterion(logits, y_batch)\n",
    "\n",
    "        optimizer.zero_grad()\n",
    "        loss.backward()\n",
    "        optimizer.step()\n",
    "\n",
    "        acc = (logits.argmax(dim=1) == y_batch).float().mean().item()\n",
    "        # loss.append(loss.item()), acc.append(acc)\n",
    "        total_train_loss_per_epoch.append(loss.item())\n",
    "        total_train_acc_per_epoch.append(acc)\n",
    "    \n",
    "\n",
    "    model.eval()\n",
    "    with torch.no_grad():\n",
    "        total_dev_loss_per_epoch = []\n",
    "        total_dev_acc_per_epoch = []\n",
    "        for X_batch, y_batch in dev_loader:\n",
    "            dev_logits = model(X_batch, drop_rate=0)\n",
    "            probs = nn.functional.softmax(dev_logits, dim=1)\n",
    "            # print(probs)\n",
    "            loss = criterion(dev_logits, y_batch)\n",
    "            acc = (dev_logits.argmax(dim=1) == y_batch).float().mean().item()\n",
    "            total_dev_loss_per_epoch.append(loss.item())\n",
    "            total_dev_acc_per_epoch.append(acc)\n",
    "    \n",
    "    train_loss_list.append(np.mean(total_train_loss_per_epoch))\n",
    "    train_accuracy_list.append(np.mean(total_train_acc_per_epoch))\n",
    "    dev_loss_list.append(np.mean(total_dev_loss_per_epoch))\n",
    "    dev_accuracy_list.append(np.mean(total_dev_acc_per_epoch))\n",
    "\n",
    "\n",
    "    if e % 10 == 0:\n",
    "        print(f'Epoch {e} | Train loss: {train_loss_list[-1]} | Train accuracy: {train_accuracy_list[-1]} | Dev loss: {dev_loss_list[-1]} | Dev accuracy: {dev_accuracy_list[-1]}') \n",
    "    \n",
    "    if early_stopper.early_stop(dev_loss_list[-1]):\n",
    "        print(f'Early stopping. Epoch {e} | Train loss: {train_loss_list[-1]} | Train accuracy: {train_accuracy_list[-1]} | Dev loss: {dev_loss_list[-1]} | Dev accuracy: {dev_accuracy_list[-1]}') \n",
    "        break"
   ]
  },
  {
   "cell_type": "code",
   "execution_count": 19,
   "metadata": {},
   "outputs": [
    {
     "data": {
      "image/png": "[encoded data removed]",
      "text/plain": [
       "<Figure size 1200x400 with 2 Axes>"
      ]
     },
     "metadata": {},
     "output_type": "display_data"
    }
   ],
   "source": [
    "# Plot train and dev accurancies and losses on training and dev data against training epochs\n",
    "num_epochs = len(train_loss_list)\n",
    "plt.figure(figsize=(12, 4))\n",
    "plt.subplot(1, 2, 1)\n",
    "plt.title('Train and dev loss with dataloader')\n",
    "plt.plot(range(num_epochs), train_loss_list, label='Train')\n",
    "plt.plot(range(num_epochs), dev_loss_list, label='Test')\n",
    "plt.xlabel('Epoch')\n",
    "plt.ylabel('Loss')\n",
    "plt.legend()\n",
    "plt.subplot(1, 2, 2)\n",
    "plt.title('Train and dev accuracy with dataloader')\n",
    "plt.plot(range(num_epochs), train_accuracy_list, label='Train')\n",
    "plt.plot(range(num_epochs), dev_accuracy_list, label='Test')\n",
    "plt.xlabel('Epoch')\n",
    "plt.ylabel('Accuracy')\n",
    "plt.legend()\n",
    "plt.show()"
   ]
  },
  {
   "cell_type": "code",
   "execution_count": 20,
   "metadata": {},
   "outputs": [
    {
     "data": {
      "text/plain": [
       "array([4, 4, 0, 0, 4, 4, 1, 2, 0, 0, 4, 3, 4, 3, 4, 4, 4, 3, 0, 4, 3, 0,\n",
       "       4, 0, 0, 3, 1, 4, 1, 4, 4, 0, 0, 4, 3, 0, 4, 1, 4, 4, 1, 0, 0, 0,\n",
       "       0, 1, 4, 0, 4, 1, 0, 3, 3, 0, 0, 2, 0, 4, 0, 0, 4, 1, 4, 1, 4, 4,\n",
       "       1, 4, 4, 4, 4, 4, 4, 3, 4, 3, 1, 4, 4, 3, 0, 0, 3, 4, 4, 0, 0, 1,\n",
       "       0, 4, 3, 0, 4, 4, 1, 4, 3, 0, 0, 3, 0, 3, 1, 3, 4, 0, 4, 4, 4, 4,\n",
       "       0, 0, 4, 3, 0, 0, 0, 0, 4, 0, 4, 1, 0, 3, 4, 3, 4, 4, 1, 4, 4, 3,\n",
       "       4, 4, 4, 4, 3, 3, 3, 0, 3, 1, 2, 3, 0, 1, 1, 4, 0, 0, 3, 3, 0, 4,\n",
       "       3, 4, 4, 0, 1, 4, 0, 0, 4, 4, 3, 3, 4, 0, 4, 0, 4, 1, 4, 0, 0, 4,\n",
       "       0, 4, 1, 4, 4, 0, 4, 0, 0, 3, 1, 0, 0, 4, 1, 4, 4, 3, 0, 4, 1, 3,\n",
       "       1, 0, 3, 4, 1, 1, 4, 4, 3, 4, 0, 0, 4, 0, 4, 1, 0, 1, 0, 3, 4, 0,\n",
       "       1, 4, 0, 3, 4, 0, 4, 0, 3, 3, 4, 3, 0, 4, 1, 0, 4, 0, 4, 0, 1, 0,\n",
       "       0, 0, 0, 1, 0, 0, 0, 0, 4, 0, 4, 1, 0, 0, 4, 1, 0, 4, 3, 3, 4, 1,\n",
       "       0, 0, 0, 4, 4, 0, 1, 0, 0, 3, 0, 0, 0, 4, 2, 0, 1, 3, 2, 0, 1, 0,\n",
       "       4, 0, 0, 1, 4, 1, 4, 1, 4, 0, 3, 4, 0, 1, 2, 4, 0, 4, 0, 4, 3, 4,\n",
       "       3, 4, 4, 0, 4, 0, 4, 0, 3, 3, 1, 4, 0, 3, 0, 1, 4, 2, 4, 4, 4, 0,\n",
       "       0, 4, 1, 1, 0, 4, 0, 0, 0, 4, 4, 3, 4, 3, 4, 3, 3, 0, 4, 4, 4, 4,\n",
       "       4, 4, 0, 3, 0, 3, 1, 1, 0, 0, 1, 4, 0, 1, 1, 1, 0, 4, 4, 1, 0, 1,\n",
       "       1, 0, 4, 0, 2, 0, 3, 3, 1, 3, 1, 4, 0, 0, 0, 0, 3, 0, 3, 4, 0, 0,\n",
       "       0, 4, 4, 4, 3, 4, 1, 2, 4, 4, 0, 0, 3, 0, 3, 0, 4, 2, 4, 0, 0, 0,\n",
       "       4, 3, 0, 1, 3, 0, 4, 3, 0, 4, 0, 1, 0, 1, 1, 1, 0, 0, 0, 1, 2, 1,\n",
       "       0, 0, 4, 4, 3, 1, 0, 3, 4, 0, 1, 1, 4, 4, 3, 0, 1, 1, 0, 0, 0, 1,\n",
       "       2, 4, 4, 4, 0, 3, 0, 0, 0, 0, 1, 4, 1, 1, 0, 4, 3, 4, 1, 3, 1, 0,\n",
       "       4, 0, 4, 4, 4, 1, 0, 0, 1, 4, 4, 3, 1, 4, 1, 0], dtype=int64)"
      ]
     },
     "execution_count": 20,
     "metadata": {},
     "output_type": "execute_result"
    }
   ],
   "source": [
    "# Function to output predictions for test data\n",
    "def predict(model, X_test):\n",
    "    model.eval()\n",
    "    with torch.no_grad():\n",
    "        test_logits = model(X_test, drop_rate=0)\n",
    "        probs = nn.functional.softmax(test_logits, dim=1)\n",
    "        return probs.argmax(dim=1).numpy()\n",
    "\n",
    "prediction = predict(model, X_test)\n",
    "prediction\n"
   ]
  },
  {
   "cell_type": "code",
   "execution_count": 21,
   "metadata": {},
   "outputs": [
    {
     "data": {
      "text/html": [
       "<div>\n",
       "<style scoped>\n",
       "    .dataframe tbody tr th:only-of-type {\n",
       "        vertical-align: middle;\n",
       "    }\n",
       "\n",
       "    .dataframe tbody tr th {\n",
       "        vertical-align: top;\n",
       "    }\n",
       "\n",
       "    .dataframe thead th {\n",
       "        text-align: right;\n",
       "    }\n",
       "</style>\n",
       "<table border=\"1\" class=\"dataframe\">\n",
       "  <thead>\n",
       "    <tr style=\"text-align: right;\">\n",
       "      <th></th>\n",
       "      <th>label-coarse</th>\n",
       "    </tr>\n",
       "  </thead>\n",
       "  <tbody>\n",
       "    <tr>\n",
       "      <th>0</th>\n",
       "      <td>4</td>\n",
       "    </tr>\n",
       "    <tr>\n",
       "      <th>1</th>\n",
       "      <td>4</td>\n",
       "    </tr>\n",
       "    <tr>\n",
       "      <th>2</th>\n",
       "      <td>0</td>\n",
       "    </tr>\n",
       "    <tr>\n",
       "      <th>3</th>\n",
       "      <td>0</td>\n",
       "    </tr>\n",
       "    <tr>\n",
       "      <th>4</th>\n",
       "      <td>4</td>\n",
       "    </tr>\n",
       "  </tbody>\n",
       "</table>\n",
       "</div>"
      ],
      "text/plain": [
       "   label-coarse\n",
       "0             4\n",
       "1             4\n",
       "2             0\n",
       "3             0\n",
       "4             4"
      ]
     },
     "execution_count": 21,
     "metadata": {},
     "output_type": "execute_result"
    }
   ],
   "source": [
    "prediction = pd.DataFrame(prediction)\n",
    "prediction.columns = ['label-coarse']\n"
   ]
  },
  {
   "cell_type": "code",
   "execution_count": 22,
   "metadata": {},
   "outputs": [
    {
     "data": {
      "text/html": [
       "<div>\n",
       "<style scoped>\n",
       "    .dataframe tbody tr th:only-of-type {\n",
       "        vertical-align: middle;\n",
       "    }\n",
       "\n",
       "    .dataframe tbody tr th {\n",
       "        vertical-align: top;\n",
       "    }\n",
       "\n",
       "    .dataframe thead th {\n",
       "        text-align: right;\n",
       "    }\n",
       "</style>\n",
       "<table border=\"1\" class=\"dataframe\">\n",
       "  <thead>\n",
       "    <tr style=\"text-align: right;\">\n",
       "      <th></th>\n",
       "      <th>label-coarse</th>\n",
       "      <th>label-fine</th>\n",
       "      <th>text</th>\n",
       "      <th>cleaned_text</th>\n",
       "      <th>padded_text</th>\n",
       "    </tr>\n",
       "  </thead>\n",
       "  <tbody>\n",
       "    <tr>\n",
       "      <th>0</th>\n",
       "      <td>4</td>\n",
       "      <td>40</td>\n",
       "      <td>How far is it from Denver to Aspen ?</td>\n",
       "      <td>[far, denver, aspen]</td>\n",
       "      <td>[far, denver, aspen,  ,  ,  ,  ,  ,  ,  ,  ,  ...</td>\n",
       "    </tr>\n",
       "    <tr>\n",
       "      <th>1</th>\n",
       "      <td>4</td>\n",
       "      <td>21</td>\n",
       "      <td>What county is Modesto , California in ?</td>\n",
       "      <td>[county, modesto, california]</td>\n",
       "      <td>[county, modesto, california,  ,  ,  ,  ,  ,  ...</td>\n",
       "    </tr>\n",
       "    <tr>\n",
       "      <th>2</th>\n",
       "      <td>0</td>\n",
       "      <td>12</td>\n",
       "      <td>Who was Galileo ?</td>\n",
       "      <td>[galileo]</td>\n",
       "      <td>[galileo,  ,  ,  ,  ,  ,  ,  ,  ,  ,  ,  ,  , ...</td>\n",
       "    </tr>\n",
       "    <tr>\n",
       "      <th>3</th>\n",
       "      <td>0</td>\n",
       "      <td>7</td>\n",
       "      <td>What is an atom ?</td>\n",
       "      <td>[atom]</td>\n",
       "      <td>[atom,  ,  ,  ,  ,  ,  ,  ,  ,  ,  ,  ,  ,  , ...</td>\n",
       "    </tr>\n",
       "    <tr>\n",
       "      <th>4</th>\n",
       "      <td>4</td>\n",
       "      <td>8</td>\n",
       "      <td>When did Hawaii become a state ?</td>\n",
       "      <td>[hawaii, become, state]</td>\n",
       "      <td>[hawaii, become, state,  ,  ,  ,  ,  ,  ,  ,  ...</td>\n",
       "    </tr>\n",
       "  </tbody>\n",
       "</table>\n",
       "</div>"
      ],
      "text/plain": [
       "   label-coarse  label-fine                                      text  \\\n",
       "0             4          40      How far is it from Denver to Aspen ?   \n",
       "1             4          21  What county is Modesto , California in ?   \n",
       "2             0          12                         Who was Galileo ?   \n",
       "3             0           7                         What is an atom ?   \n",
       "4             4           8          When did Hawaii become a state ?   \n",
       "\n",
       "                    cleaned_text  \\\n",
       "0           [far, denver, aspen]   \n",
       "1  [county, modesto, california]   \n",
       "2                      [galileo]   \n",
       "3                         [atom]   \n",
       "4        [hawaii, become, state]   \n",
       "\n",
       "                                         padded_text  \n",
       "0  [far, denver, aspen,  ,  ,  ,  ,  ,  ,  ,  ,  ...  \n",
       "1  [county, modesto, california,  ,  ,  ,  ,  ,  ...  \n",
       "2  [galileo,  ,  ,  ,  ,  ,  ,  ,  ,  ,  ,  ,  , ...  \n",
       "3  [atom,  ,  ,  ,  ,  ,  ,  ,  ,  ,  ,  ,  ,  , ...  \n",
       "4  [hawaii, become, state,  ,  ,  ,  ,  ,  ,  ,  ...  "
      ]
     },
     "execution_count": 22,
     "metadata": {},
     "output_type": "execute_result"
    }
   ],
   "source": [
    "# Append the prediction to the test data\n",
    "test_set['label-coarse'] = prediction['label-coarse']\n",
    "test_set.head()"
   ]
  }
 ],
 "metadata": {
  "kernelspec": {
   "display_name": "Python 3.11.0rc2 64-bit",
   "language": "python",
   "name": "python3"
  },
  "language_info": {
   "codemirror_mode": {
    "name": "ipython",
    "version": 3
   },
   "file_extension": ".py",
   "mimetype": "text/x-python",
   "name": "python",
   "nbconvert_exporter": "python",
   "pygments_lexer": "ipython3",
   "version": "3.11.0"
  },
  "vscode": {
   "interpreter": {
    "hash": "dda57afae9af399ecbdf8df67ccd92ed69268ebb9dac03797080ba5b979e10f0"
   }
  }
 },
 "nbformat": 4,
 "nbformat_minor": 2
}
